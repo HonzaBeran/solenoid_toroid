{
 "cells": [
  {
   "cell_type": "markdown",
   "metadata": {},
   "source": [
    "# Magnetic field of solenoid a toroid\n",
    "\n",
    "## Biot-Savart law\n",
    "\n",
    "### Biot-Savartova law\n",
    "$$\n",
    "\\mathbf{B}(\\mathbf{r}) = \\frac{\\mu_0}{4 \\pi} \\int  \\frac{I \\text{d}\\mathbf{r}' \\times (\\mathbf{r} - \\mathbf{r}') }{|\\mathbf{r} - \\mathbf{r}'|^3}\n",
    "$$\n",
    "\n",
    "### Aproximate Biot-Savart law used in code\n",
    "$$\n",
    "\\mathbf{B}(\\mathbf{r}) = \\frac{I \\mu_0}{4 \\pi} \\sum_{i = 1}^N  \\frac{\\Delta\\mathbf{r}' \\times (\\mathbf{r} - \\mathbf{r}') }{|\\mathbf{r} - \\mathbf{r}'|^3}\n",
    "$$"
   ]
  },
  {
   "cell_type": "markdown",
   "metadata": {},
   "source": [
    "#### How it works?"
   ]
  },
  {
   "cell_type": "code",
   "execution_count": null,
   "metadata": {},
   "outputs": [],
   "source": [
    "# Import module with class for toroid and solenoid\n",
    "from solenoid import *\n",
    "from toroid import *"
   ]
  },
  {
   "cell_type": "markdown",
   "metadata": {},
   "source": [
    "For help of classes for solenoid and toroid uncomment this"
   ]
  },
  {
   "cell_type": "code",
   "execution_count": null,
   "metadata": {},
   "outputs": [],
   "source": [
    "# help(solenoid)\n",
    "# help(toroid)"
   ]
  },
  {
   "cell_type": "code",
   "execution_count": null,
   "metadata": {},
   "outputs": [],
   "source": [
    "# Creat objects solenoid and toroid\n",
    "MySolenoid = solenoid()\n",
    "MyToroid = toroid()"
   ]
  },
  {
   "cell_type": "code",
   "execution_count": null,
   "metadata": {},
   "outputs": [],
   "source": [
    "MySolenoid.show_magnetic_field()\n",
    "MyToroid.show_magnetic_field()"
   ]
  },
  {
   "cell_type": "markdown",
   "metadata": {},
   "source": [
    "#### Define own points for solve magnetic field"
   ]
  },
  {
   "cell_type": "code",
   "execution_count": null,
   "metadata": {},
   "outputs": [],
   "source": [
    "import numpy as np\n",
    "from solveMagneticField import * # Help with creat X, Y, Z from meshgrid method"
   ]
  },
  {
   "cell_type": "code",
   "execution_count": null,
   "metadata": {},
   "outputs": [],
   "source": [
    "X = np.linspace(-0.2, 0.2, 5)\n",
    "Y = np.linspace(-0.2, 0.2, 5)\n",
    "Z = np.linspace(-5, 5, 5)"
   ]
  },
  {
   "cell_type": "code",
   "execution_count": null,
   "metadata": {},
   "outputs": [],
   "source": [
    "X, Y, Z = np.meshgrid(X, Y, Z)\n",
    "X = meshgrid_to_one(X)\n",
    "Y = meshgrid_to_one(Y)\n",
    "Z = meshgrid_to_one(Z)"
   ]
  },
  {
   "cell_type": "code",
   "execution_count": null,
   "metadata": {},
   "outputs": [],
   "source": [
    "MySolenoid.show_magnetic_field('', [[0, 30], [0, 45]], X, Y, Z)\n",
    "MyToroid.show_magnetic_field('', [[0, 30], [0, 45]], X, Y, Z)"
   ]
  },
  {
   "cell_type": "code",
   "execution_count": null,
   "metadata": {},
   "outputs": [],
   "source": [
    "# Creat my own solenoid and toroid with my own properities\n",
    "MySolenoid2 = solenoid('circle', 30, 6, 10, 400)\n",
    "MyToroid2 = toroid(25, 3, 10, 1000)"
   ]
  },
  {
   "cell_type": "code",
   "execution_count": null,
   "metadata": {},
   "outputs": [],
   "source": [
    "MySolenoid.show_my_solenoid()\n",
    "MyToroid.show_my_toroid()"
   ]
  },
  {
   "cell_type": "code",
   "execution_count": null,
   "metadata": {},
   "outputs": [],
   "source": [
    "MySolenoid.show_magnetic_field('First picture of solenoid')\n",
    "MyToroid.show_magnetic_field('First picture of toroid')"
   ]
  },
  {
   "cell_type": "code",
   "execution_count": null,
   "metadata": {},
   "outputs": [],
   "source": [
    "MySolenoid2.show_my_solenoid()\n",
    "MyToroid2.show_my_toroid()"
   ]
  },
  {
   "cell_type": "code",
   "execution_count": null,
   "metadata": {},
   "outputs": [],
   "source": [
    "MySolenoid2.show_magnetic_field('', [[0, 30, 70], [30]])"
   ]
  },
  {
   "cell_type": "markdown",
   "metadata": {},
   "source": [
    "#### Solve magnetic field without ploting"
   ]
  },
  {
   "cell_type": "code",
   "execution_count": null,
   "metadata": {},
   "outputs": [],
   "source": [
    "SX, SY, SZ, SBx, SBy, SBz = MySolenoid2.magnetic_field_of_solenoid()\n",
    "TX, TY, TZ, TBx, TBy, TBz = MyToroid2.magnetic_field_of_toroid()"
   ]
  },
  {
   "cell_type": "code",
   "execution_count": null,
   "metadata": {},
   "outputs": [],
   "source": [
    "print(SX, SY, SZ)\n",
    "print(SBx, SBy, SBz)"
   ]
  },
  {
   "cell_type": "code",
   "execution_count": null,
   "metadata": {},
   "outputs": [],
   "source": [
    "print(TX, TY, TZ)\n",
    "print(TBx, TBy, TBz)"
   ]
  }
 ],
 "metadata": {
  "kernelspec": {
   "display_name": "Python 3",
   "language": "python",
   "name": "python3"
  },
  "language_info": {
   "codemirror_mode": {
    "name": "ipython",
    "version": 3
   },
   "file_extension": ".py",
   "mimetype": "text/x-python",
   "name": "python",
   "nbconvert_exporter": "python",
   "pygments_lexer": "ipython3",
   "version": "3.8.2"
  }
 },
 "nbformat": 4,
 "nbformat_minor": 4
}
